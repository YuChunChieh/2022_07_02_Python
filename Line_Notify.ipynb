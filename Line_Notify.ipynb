{
  "nbformat": 4,
  "nbformat_minor": 0,
  "metadata": {
    "colab": {
      "name": "Line Notify.ipynb",
      "provenance": [],
      "authorship_tag": "ABX9TyOIUkLqCmybFYvodi2L+ZYs",
      "include_colab_link": true
    },
    "kernelspec": {
      "name": "python3",
      "display_name": "Python 3"
    },
    "language_info": {
      "name": "python"
    }
  },
  "cells": [
    {
      "cell_type": "markdown",
      "metadata": {
        "id": "view-in-github",
        "colab_type": "text"
      },
      "source": [
        "<a href=\"https://colab.research.google.com/github/YuChunChieh/2022_07_02_Python/blob/main/Line_Notify.ipynb\" target=\"_parent\"><img src=\"https://colab.research.google.com/assets/colab-badge.svg\" alt=\"Open In Colab\"/></a>"
      ]
    },
    {
      "cell_type": "markdown",
      "source": [
        "# 使用Line Notify 傳送訊息給自己"
      ],
      "metadata": {
        "id": "enLSZ-j4cSu7"
      }
    },
    {
      "cell_type": "markdown",
      "source": [
        "從GitHub下載模組來使用"
      ],
      "metadata": {
        "id": "TFLRQtOBdgC8"
      }
    },
    {
      "cell_type": "markdown",
      "source": [
        "* [取得權杖](https://notify-bot.line.me/my/)\n",
        "* [Line Sticker List](https://github.com/victorgau/khpy_linenotify_intro/raw/main/misc/sticker_list.pdf)"
      ],
      "metadata": {
        "id": "ATUqFz20ezgk"
      }
    },
    {
      "cell_type": "code",
      "execution_count": 1,
      "metadata": {
        "colab": {
          "base_uri": "https://localhost:8080/"
        },
        "id": "0rULnIlwcSLd",
        "outputId": "bb0da441-35fa-45b3-d8f7-468e73c1b0d0"
      },
      "outputs": [
        {
          "output_type": "stream",
          "name": "stdout",
          "text": [
            "  % Total    % Received % Xferd  Average Speed   Time    Time     Time  Current\n",
            "                                 Dload  Upload   Total   Spent    Left  Speed\n",
            "\r  0     0    0     0    0     0      0      0 --:--:-- --:--:-- --:--:--     0\r100   818  100   818    0     0  10487      0 --:--:-- --:--:-- --:--:-- 10487\n"
          ]
        }
      ],
      "source": [
        "!curl -o linenotify.py https://raw.githubusercontent.com/victorgau/khpy_linenotify_intro/main/py/linenotify.py"
      ]
    },
    {
      "cell_type": "markdown",
      "source": [
        "### ！＃執行python外部指令要加\n",
        "### curl -o #執行下載指令，可以在終端機curl --help看功能介紹\n",
        "### linenotify.py #可以自訂檔案名稱\n",
        "### http://......#要下載的檔案位置\n"
      ],
      "metadata": {
        "id": "aSbQaV7kgX8B"
      }
    },
    {
      "cell_type": "code",
      "source": [
        "token = \"UWrmhUSNguQzCoei0zELeLznXRNW7JAAcpjBE2TnLv7\" #個人"
      ],
      "metadata": {
        "id": "vNDNguSIfTbf"
      },
      "execution_count": 2,
      "outputs": []
    },
    {
      "cell_type": "code",
      "source": [
        "from linenotify import Notify"
      ],
      "metadata": {
        "id": "7UgWUuPUfbJW"
      },
      "execution_count": 4,
      "outputs": []
    },
    {
      "cell_type": "code",
      "source": [
        "Notify(token, \"有什麼需要處理的嗎？\")"
      ],
      "metadata": {
        "colab": {
          "base_uri": "https://localhost:8080/"
        },
        "id": "ocUKxNzsfsss",
        "outputId": "b30934ec-9735-40d9-d32e-f6cbefbccc6f"
      },
      "execution_count": 8,
      "outputs": [
        {
          "output_type": "execute_result",
          "data": {
            "text/plain": [
              "<Response [200]>"
            ]
          },
          "metadata": {},
          "execution_count": 8
        }
      ]
    },
    {
      "cell_type": "code",
      "source": [
        "token2 =\"ir1DSzUsTnwAhs9hSIqPBPUYajlK7X0Yvo2e6sxk258\" #靈修群組"
      ],
      "metadata": {
        "id": "VEqcSf9si_Ub"
      },
      "execution_count": 9,
      "outputs": []
    },
    {
      "cell_type": "code",
      "source": [
        "Notify(token2, \"要好好靈修禱告喔\",1,4)"
      ],
      "metadata": {
        "colab": {
          "base_uri": "https://localhost:8080/"
        },
        "id": "LFFEUj8ZjFnO",
        "outputId": "efd07d35-a994-4f9d-bbe9-1c9ebeaf87c2"
      },
      "execution_count": 11,
      "outputs": [
        {
          "output_type": "execute_result",
          "data": {
            "text/plain": [
              "<Response [200]>"
            ]
          },
          "metadata": {},
          "execution_count": 11
        }
      ]
    },
    {
      "cell_type": "code",
      "source": [
        "from IPython.core.display import Image\n",
        "Notify (token, \"有什麼需要處理的嗎？\", 1, 4, img=\"MRI.png\")"
      ],
      "metadata": {
        "colab": {
          "base_uri": "https://localhost:8080/"
        },
        "id": "Ln2wKrLSnRoz",
        "outputId": "77b54523-3588-4826-cb9b-9cb883d88eae"
      },
      "execution_count": 18,
      "outputs": [
        {
          "output_type": "execute_result",
          "data": {
            "text/plain": [
              "<Response [200]>"
            ]
          },
          "metadata": {},
          "execution_count": 18
        }
      ]
    }
  ]
}